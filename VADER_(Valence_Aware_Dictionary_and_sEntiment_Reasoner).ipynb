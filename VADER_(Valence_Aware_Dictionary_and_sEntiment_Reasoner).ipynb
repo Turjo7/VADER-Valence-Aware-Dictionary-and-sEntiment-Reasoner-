{
  "nbformat": 4,
  "nbformat_minor": 0,
  "metadata": {
    "colab": {
      "name": "VADER (Valence Aware Dictionary and sEntiment Reasoner).ipynb",
      "provenance": []
    },
    "kernelspec": {
      "name": "python3",
      "display_name": "Python 3"
    }
  },
  "cells": [
    {
      "cell_type": "code",
      "metadata": {
        "id": "kbpRSjPfnyei",
        "colab_type": "code",
        "colab": {
          "base_uri": "https://localhost:8080/",
          "height": 122
        },
        "outputId": "750aebb3-7195-4325-8534-3d1fc33ee83f"
      },
      "source": [
        "!pip install vaderSentiment"
      ],
      "execution_count": 1,
      "outputs": [
        {
          "output_type": "stream",
          "text": [
            "Collecting vaderSentiment\n",
            "\u001b[?25l  Downloading https://files.pythonhosted.org/packages/86/9e/c53e1fc61aac5ee490a6ac5e21b1ac04e55a7c2aba647bb8411c9aadf24e/vaderSentiment-3.2.1-py2.py3-none-any.whl (125kB)\n",
            "\r\u001b[K     |██▋                             | 10kB 21.5MB/s eta 0:00:01\r\u001b[K     |█████▏                          | 20kB 6.6MB/s eta 0:00:01\r\u001b[K     |███████▉                        | 30kB 9.1MB/s eta 0:00:01\r\u001b[K     |██████████▍                     | 40kB 5.9MB/s eta 0:00:01\r\u001b[K     |█████████████                   | 51kB 7.2MB/s eta 0:00:01\r\u001b[K     |███████████████▋                | 61kB 8.4MB/s eta 0:00:01\r\u001b[K     |██████████████████▎             | 71kB 9.6MB/s eta 0:00:01\r\u001b[K     |████████████████████▉           | 81kB 10.7MB/s eta 0:00:01\r\u001b[K     |███████████████████████▍        | 92kB 11.8MB/s eta 0:00:01\r\u001b[K     |██████████████████████████      | 102kB 9.5MB/s eta 0:00:01\r\u001b[K     |████████████████████████████▋   | 112kB 9.5MB/s eta 0:00:01\r\u001b[K     |███████████████████████████████▎| 122kB 9.5MB/s eta 0:00:01\r\u001b[K     |████████████████████████████████| 133kB 9.5MB/s \n",
            "\u001b[?25hInstalling collected packages: vaderSentiment\n",
            "Successfully installed vaderSentiment-3.2.1\n"
          ],
          "name": "stdout"
        }
      ]
    },
    {
      "cell_type": "code",
      "metadata": {
        "id": "R9Z4okP9oFo-",
        "colab_type": "code",
        "colab": {
          "base_uri": "https://localhost:8080/",
          "height": 374
        },
        "outputId": "2201b1e1-11cf-4292-b7e4-7d0c13ad0cf4"
      },
      "source": [
        "# import SentimentIntensityAnalyzer class \n",
        "# from vaderSentiment.vaderSentiment module. \n",
        "from vaderSentiment.vaderSentiment import SentimentIntensityAnalyzer \n",
        "\n",
        "# function to print sentiments \n",
        "# of the sentence. \n",
        "def sentiment_scores(sentence): \n",
        "\n",
        "\t# Create a SentimentIntensityAnalyzer object. \n",
        "\tsid_obj = SentimentIntensityAnalyzer() \n",
        "\n",
        "\t# polarity_scores method of SentimentIntensityAnalyzer \n",
        "\t# oject gives a sentiment dictionary. \n",
        "\t# which contains pos, neg, neu, and compound scores. \n",
        "\tsentiment_dict = sid_obj.polarity_scores(sentence) \n",
        "\t\n",
        "\tprint(\"Overall sentiment dictionary is : \", sentiment_dict) \n",
        "\tprint(\"sentence was rated as \", sentiment_dict['neg']*100, \"% Negative\") \n",
        "\tprint(\"sentence was rated as \", sentiment_dict['neu']*100, \"% Neutral\") \n",
        "\tprint(\"sentence was rated as \", sentiment_dict['pos']*100, \"% Positive\") \n",
        "\n",
        "\tprint(\"Sentence Overall Rated As\", end = \" \") \n",
        "\n",
        "\t# decide sentiment as positive, negative and neutral \n",
        "\tif sentiment_dict['compound'] >= 0.05 : \n",
        "\t\tprint(\"Positive\") \n",
        "\n",
        "\telif sentiment_dict['compound'] <= - 0.05 : \n",
        "\t\tprint(\"Negative\") \n",
        "\n",
        "\telse : \n",
        "\t\tprint(\"Neutral\") \n",
        "\n",
        "\n",
        "\t\n",
        "# Driver code \n",
        "if __name__ == \"__main__\" : \n",
        "\n",
        "\tprint(\"\\n1st statement :\") \n",
        "\tsentence = \"Geeks For Geeks is the best portal for \\ the computer science engineering students.\" \n",
        "\n",
        "\t# function calling \n",
        "\tsentiment_scores(sentence) \n",
        "\n",
        "\tprint(\"\\n2nd Statement :\") \n",
        "\tsentence = \"study is going on as usual\"\n",
        "\tsentiment_scores(sentence) \n",
        "\n",
        "\tprint(\"\\n3rd Statement :\") \n",
        "\tsentence = \"I am vey sad today.\"\n",
        "\tsentiment_scores(sentence) \n"
      ],
      "execution_count": 3,
      "outputs": [
        {
          "output_type": "stream",
          "text": [
            "\n",
            "1st statement :\n",
            "Overall sentiment dictionary is :  {'neg': 0.165, 'neu': 0.588, 'pos': 0.247, 'compound': 0.5267}\n",
            "sentence was rated as  16.5 % Negative\n",
            "sentence was rated as  58.8 % Neutral\n",
            "sentence was rated as  24.7 % Positive\n",
            "Sentence Overall Rated As Positive\n",
            "\n",
            "2nd Statement :\n",
            "Overall sentiment dictionary is :  {'neg': 0.0, 'neu': 1.0, 'pos': 0.0, 'compound': 0.0}\n",
            "sentence was rated as  0.0 % Negative\n",
            "sentence was rated as  100.0 % Neutral\n",
            "sentence was rated as  0.0 % Positive\n",
            "Sentence Overall Rated As Neutral\n",
            "\n",
            "3rd Statement :\n",
            "Overall sentiment dictionary is :  {'neg': 0.508, 'neu': 0.492, 'pos': 0.0, 'compound': -0.4767}\n",
            "sentence was rated as  50.8 % Negative\n",
            "sentence was rated as  49.2 % Neutral\n",
            "sentence was rated as  0.0 % Positive\n",
            "Sentence Overall Rated As Negative\n"
          ],
          "name": "stdout"
        }
      ]
    }
  ]
}